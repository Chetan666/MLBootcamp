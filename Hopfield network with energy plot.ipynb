{
 "cells": [
  {
   "cell_type": "code",
   "execution_count": 1,
   "id": "33b5a5d1",
   "metadata": {},
   "outputs": [
    {
     "name": "stdout",
     "output_type": "stream",
     "text": [
      "Memorized Pattern: [1, -1, -1, 1]\n",
      "Input Pattern: [-1, 1, -1, 1]\n",
      "Predicted Pattern: [-1.  1. -1.  1.]\n",
      "Number of Steps to Reach Stable State: 10\n"
     ]
    },
    {
     "data": {
      "image/png": "[encoded data removed]",
      "text/plain": [
       "<Figure size 432x288 with 1 Axes>"
      ]
     },
     "metadata": {
      "needs_background": "light"
     },
     "output_type": "display_data"
    }
   ],
   "source": [
    "import matplotlib.pyplot as plt\n",
    "import numpy as np\n",
    "\n",
    "class HopfieldNetwork:\n",
    "    def __init__(self, num_neurons):\n",
    "        self.num_neurons = num_neurons\n",
    "        self.weights = np.zeros((num_neurons, num_neurons))\n",
    "\n",
    "    def train(self, patterns):\n",
    "        for pattern in patterns:\n",
    "            pattern = np.array(pattern).reshape(-1, 1)\n",
    "            self.weights += np.dot(pattern, pattern.T)\n",
    "            np.fill_diagonal(self.weights, 0)\n",
    "\n",
    "    def predict(self, pattern):\n",
    "        pattern = np.array(pattern).reshape(-1, 1)\n",
    "        steps = 0\n",
    "        pattern_states = [pattern.flatten()]\n",
    "        for _ in range(10):  # Set a number of iterations for convergence\n",
    "            old_pattern = pattern.copy()\n",
    "            pattern = np.sign(np.dot(self.weights, pattern))\n",
    "            pattern_states.append(pattern.flatten())\n",
    "            steps += 1\n",
    "            if np.array_equal(pattern, old_pattern):\n",
    "                break\n",
    "        return pattern.flatten(), steps, pattern_states\n",
    "\n",
    "    def calculate_energy(self, pattern):\n",
    "        return -0.5 * np.dot(pattern.T, np.dot(self.weights, pattern))\n",
    "\n",
    "# Example usage\n",
    "if __name__ == \"__main__\":\n",
    "    num_neurons = 4\n",
    "    hopfield_net = HopfieldNetwork(num_neurons)\n",
    "\n",
    "    # Define the pattern to be memorized\n",
    "    memorized_pattern = [1, -1, -1, 1]\n",
    "\n",
    "    # Train the network with the memorized pattern\n",
    "    hopfield_net.train([memorized_pattern])\n",
    "\n",
    "    # Test the network with the input pattern\n",
    "    input_pattern = [-1, 1, -1, 1]\n",
    "    predicted_pattern, steps, pattern_states = hopfield_net.predict(input_pattern)\n",
    "\n",
    "    energies = []  # List to store energy values at each step\n",
    "    for state in pattern_states:\n",
    "        energy = hopfield_net.calculate_energy(np.array(state).reshape(-1, 1))\n",
    "        energies.append(energy.item())\n",
    "\n",
    "    print(\"Memorized Pattern:\", memorized_pattern)\n",
    "    print(\"Input Pattern:\", input_pattern)\n",
    "    print(\"Predicted Pattern:\", predicted_pattern)\n",
    "    print(\"Number of Steps to Reach Stable State:\", steps)\n",
    "    \n",
    "    # Plotting the energy over iterations\n",
    "    plt.plot(range(len(energies)), energies, marker='o')\n",
    "    plt.xlabel('Iterations')\n",
    "    plt.ylabel('Energy')\n",
    "    plt.title('Energy of Hopfield Network over Iterations')\n",
    "    plt.grid(True)\n",
    "    plt.show()\n"
   ]
  },
  {
   "cell_type": "code",
   "execution_count": 2,
   "id": "f98f1ebb",
   "metadata": {},
   "outputs": [
    {
     "data": {
      "image/png": "[encoded data removed]",
      "text/plain": [
       "<Figure size 432x288 with 1 Axes>"
      ]
     },
     "metadata": {},
     "output_type": "display_data"
    }
   ],
   "source": [
    "import matplotlib.pyplot as plt\n",
    "import numpy as np\n",
    "\n",
    "# Define the pattern as a list of +1 and -1\n",
    "pattern = input_pattern  # Example pattern; replace this with your desired pattern\n",
    "\n",
    "# Reshape the pattern into a 2x2 grid\n",
    "grid = np.array(pattern).reshape(2, 2)\n",
    "\n",
    "# Create a plot to display the grid\n",
    "plt.imshow(grid, cmap='binary', interpolation='nearest')  # Use 'binary' colormap\n",
    "\n",
    "# Hide gridlines for better visualization\n",
    "plt.grid(visible=False)\n",
    "plt.xticks([])\n",
    "plt.yticks([])\n",
    "\n",
    "# Show the plot\n",
    "plt.show()\n"
   ]
  },
  {
   "cell_type": "code",
   "execution_count": 3,
   "id": "8e125ed7",
   "metadata": {},
   "outputs": [
    {
     "data": {
      "image/png": "[encoded data removed]",
      "text/plain": [
       "<Figure size 432x288 with 1 Axes>"
      ]
     },
     "metadata": {},
     "output_type": "display_data"
    }
   ],
   "source": [
    "# Define the pattern as a list of +1 and -1\n",
    "pattern = predicted_pattern  # Example pattern; replace this with your desired pattern\n",
    "\n",
    "# Reshape the pattern into a 2x2 grid\n",
    "grid = np.array(pattern).reshape(2, 2)\n",
    "\n",
    "# Create a plot to display the grid\n",
    "plt.imshow(grid, cmap='binary', interpolation='nearest')  # Use 'binary' colormap\n",
    "\n",
    "# Hide gridlines for better visualization\n",
    "plt.grid(visible=False)\n",
    "plt.xticks([])\n",
    "plt.yticks([])\n",
    "\n",
    "# Show the plot\n",
    "plt.show()"
   ]
  }
 ],
 "metadata": {
  "kernelspec": {
   "display_name": "Python 3 (ipykernel)",
   "language": "python",
   "name": "python3"
  },
  "language_info": {
   "codemirror_mode": {
    "name": "ipython",
    "version": 3
   },
   "file_extension": ".py",
   "mimetype": "text/x-python",
   "name": "python",
   "nbconvert_exporter": "python",
   "pygments_lexer": "ipython3",
   "version": "3.10.5"
  }
 },
 "nbformat": 4,
 "nbformat_minor": 5
}
